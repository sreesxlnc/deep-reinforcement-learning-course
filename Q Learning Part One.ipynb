{
 "cells": [
  {
   "cell_type": "code",
   "execution_count": 1,
   "metadata": {},
   "outputs": [],
   "source": [
    "import numpy as np\n",
    "import gym \n",
    "import random"
   ]
  },
  {
   "cell_type": "markdown",
   "metadata": {},
   "source": [
    "# Create the Environment"
   ]
  },
  {
   "cell_type": "code",
   "execution_count": 2,
   "metadata": {},
   "outputs": [],
   "source": [
    "from gym.envs.registration import register\n",
    "register(\n",
    "id='FrozenLakeNotSlippery-v0',\n",
    "entry_point='gym.envs.toy_text:FrozenLakeEnv',\n",
    "kwargs={'map_name' : '4x4', 'is_slippery': False},\n",
    "max_episode_steps=100,\n",
    "reward_threshold=0.78, # optimum = .8196\n",
    ")\n",
    "env = gym.make(\"FrozenLakeNotSlippery-v0\")"
   ]
  },
  {
   "cell_type": "code",
   "execution_count": 3,
   "metadata": {},
   "outputs": [],
   "source": [
    "env = gym.make('FrozenLake-v0')"
   ]
  },
  {
   "cell_type": "code",
   "execution_count": 4,
   "metadata": {},
   "outputs": [
    {
     "name": "stdout",
     "output_type": "stream",
     "text": [
      "(16, 4)\n"
     ]
    }
   ],
   "source": [
    "action_size = env.action_space.n\n",
    "state_size = env.observation_space.n\n",
    "\n",
    "qtable = np.zeros((state_size, action_size))\n",
    "print(qtable.shape)"
   ]
  },
  {
   "cell_type": "markdown",
   "metadata": {},
   "source": [
    "There are 16 states (squares) with 4 actions in each."
   ]
  },
  {
   "cell_type": "markdown",
   "metadata": {},
   "source": [
    "# Hyperparameters \n",
    "\n",
    "These control the learning process."
   ]
  },
  {
   "cell_type": "code",
   "execution_count": 5,
   "metadata": {},
   "outputs": [],
   "source": [
    "total_episodes = 10000\n",
    "learning_rate = 0.8\n",
    "max_steps = 99\n",
    "gamma = 0.95\n",
    "\n",
    "epsilon = 1.0\n",
    "max_epsilon = 1.0\n",
    "min_epsilon = 0.01\n",
    "decay_rate = 0.01"
   ]
  },
  {
   "cell_type": "markdown",
   "metadata": {},
   "source": [
    "# Q Learning Algorithm"
   ]
  },
  {
   "cell_type": "code",
   "execution_count": 18,
   "metadata": {},
   "outputs": [
    {
     "name": "stdout",
     "output_type": "stream",
     "text": [
      "Episode: 0, average rewards: 0.0\n",
      "Episode: 1000, average rewards: 0.039\n",
      "Episode: 2000, average rewards: 0.059\n",
      "Episode: 3000, average rewards: 0.09\n",
      "Episode: 4000, average rewards: 0.148\n",
      "Episode: 5000, average rewards: 0.197\n",
      "Episode: 6000, average rewards: 0.235\n",
      "Episode: 7000, average rewards: 0.262\n",
      "Episode: 8000, average rewards: 0.291\n",
      "Episode: 9000, average rewards: 0.311\n",
      "Episode: 10000, average rewards: 0.33\n",
      "Episode: 11000, average rewards: 0.346\n",
      "Episode: 12000, average rewards: 0.361\n",
      "Episode: 13000, average rewards: 0.372\n",
      "Episode: 14000, average rewards: 0.381\n",
      "Episode: 15000, average rewards: 0.389\n",
      "Episode: 16000, average rewards: 0.396\n",
      "Episode: 17000, average rewards: 0.4\n",
      "Episode: 18000, average rewards: 0.407\n",
      "Episode: 19000, average rewards: 0.41\n",
      "Episode: 20000, average rewards: 0.413\n",
      "Episode: 21000, average rewards: 0.419\n",
      "Episode: 22000, average rewards: 0.421\n",
      "Episode: 23000, average rewards: 0.425\n",
      "Episode: 24000, average rewards: 0.429\n",
      "Episode: 25000, average rewards: 0.435\n",
      "Episode: 26000, average rewards: 0.437\n",
      "Episode: 27000, average rewards: 0.44\n",
      "Episode: 28000, average rewards: 0.443\n",
      "Episode: 29000, average rewards: 0.444\n",
      "Episode: 30000, average rewards: 0.447\n",
      "Episode: 31000, average rewards: 0.449\n",
      "Episode: 32000, average rewards: 0.451\n",
      "Episode: 33000, average rewards: 0.451\n",
      "Episode: 34000, average rewards: 0.453\n",
      "Episode: 35000, average rewards: 0.453\n",
      "Episode: 36000, average rewards: 0.454\n",
      "Episode: 37000, average rewards: 0.455\n",
      "Episode: 38000, average rewards: 0.456\n",
      "Episode: 39000, average rewards: 0.457\n",
      "Episode: 40000, average rewards: 0.459\n",
      "Episode: 41000, average rewards: 0.461\n",
      "Episode: 42000, average rewards: 0.463\n",
      "Episode: 43000, average rewards: 0.465\n",
      "Episode: 44000, average rewards: 0.466\n",
      "Episode: 45000, average rewards: 0.466\n",
      "Episode: 46000, average rewards: 0.466\n",
      "Episode: 47000, average rewards: 0.467\n",
      "Episode: 48000, average rewards: 0.468\n",
      "Episode: 49000, average rewards: 0.469\n",
      "Episode: 50000, average rewards: 0.47\n",
      "Episode: 51000, average rewards: 0.471\n",
      "Episode: 52000, average rewards: 0.471\n",
      "Episode: 53000, average rewards: 0.472\n",
      "Episode: 54000, average rewards: 0.472\n",
      "Episode: 55000, average rewards: 0.473\n",
      "Episode: 56000, average rewards: 0.474\n",
      "Episode: 57000, average rewards: 0.473\n",
      "Episode: 58000, average rewards: 0.474\n",
      "Episode: 59000, average rewards: 0.475\n",
      "Episode: 60000, average rewards: 0.475\n",
      "Episode: 61000, average rewards: 0.476\n",
      "Episode: 62000, average rewards: 0.477\n",
      "Episode: 63000, average rewards: 0.478\n",
      "Episode: 64000, average rewards: 0.479\n",
      "Episode: 65000, average rewards: 0.479\n",
      "Episode: 66000, average rewards: 0.48\n",
      "Episode: 67000, average rewards: 0.48\n",
      "Episode: 68000, average rewards: 0.48\n",
      "Episode: 69000, average rewards: 0.481\n",
      "Episode: 70000, average rewards: 0.482\n",
      "Episode: 71000, average rewards: 0.482\n",
      "Episode: 72000, average rewards: 0.483\n",
      "Episode: 73000, average rewards: 0.483\n",
      "Episode: 74000, average rewards: 0.483\n",
      "Episode: 75000, average rewards: 0.483\n",
      "Episode: 76000, average rewards: 0.484\n",
      "Episode: 77000, average rewards: 0.484\n",
      "Episode: 78000, average rewards: 0.485\n",
      "Episode: 79000, average rewards: 0.485\n",
      "Episode: 80000, average rewards: 0.485\n",
      "Episode: 81000, average rewards: 0.485\n",
      "Episode: 82000, average rewards: 0.486\n",
      "Episode: 83000, average rewards: 0.486\n",
      "Episode: 84000, average rewards: 0.486\n",
      "Episode: 85000, average rewards: 0.485\n",
      "Episode: 86000, average rewards: 0.486\n",
      "Episode: 87000, average rewards: 0.486\n",
      "Episode: 88000, average rewards: 0.486\n",
      "Episode: 89000, average rewards: 0.486\n",
      "Episode: 90000, average rewards: 0.487\n",
      "Episode: 91000, average rewards: 0.487\n",
      "Episode: 92000, average rewards: 0.488\n",
      "Episode: 93000, average rewards: 0.488\n",
      "Episode: 94000, average rewards: 0.488\n",
      "Episode: 95000, average rewards: 0.488\n",
      "Episode: 96000, average rewards: 0.488\n",
      "Episode: 97000, average rewards: 0.488\n",
      "Episode: 98000, average rewards: 0.488\n",
      "Episode: 99000, average rewards: 0.488\n"
     ]
    }
   ],
   "source": [
    "rewards = []\n",
    "qtable = np.zeros((state_size, action_size))\n",
    "\n",
    "total_episodes = 100000\n",
    "learning_rate = 0.8\n",
    "max_steps = 99\n",
    "gamma = 0.95\n",
    "\n",
    "epsilon = 1.0\n",
    "max_epsilon = 1.0\n",
    "min_epsilon = 0.01\n",
    "decay_rate = 0.001\n",
    "count = 0\n",
    "\n",
    "for episode in range(total_episodes):\n",
    "    \n",
    "    state = env.reset()\n",
    "    step = 0\n",
    "    done = False\n",
    "    total_rewards = 0\n",
    "    \n",
    "    # Take maximum of max steps\n",
    "    for step in range(max_steps):\n",
    "        exp_exp_tradeoff = random.uniform(0, 1)\n",
    "        \n",
    "        # If exploit, choose the maximum action for the state\n",
    "        if exp_exp_tradeoff > epsilon:\n",
    "            action = np.argmax(qtable[state, :])\n",
    "            \n",
    "        # If explore, randomly choose an action from the action space\n",
    "        else:\n",
    "            action = env.action_space.sample()\n",
    "        \n",
    "        # Take the action\n",
    "        new_state, reward, done, info = env.step(action)\n",
    "        \n",
    "        # Update qtable\n",
    "        qtable[state, action] = qtable[state, action] + learning_rate * (reward + gamma * np.max(qtable[new_state, :]) - qtable[state, action])\n",
    "        total_rewards += reward\n",
    "        \n",
    "        # Now in new state\n",
    "        state = new_state\n",
    "        \n",
    "        if done:\n",
    "            break\n",
    "            \n",
    "    rewards.append(total_rewards)\n",
    "\n",
    "    # Decay the explore exploit tradeoff to favor more exploit over time\n",
    "    epsilon = min_epsilon + (max_epsilon - min_epsilon) * np.exp(-decay_rate*episode)\n",
    "\n",
    "    if episode % 10000 == 0:\n",
    "        print(f'Episode: {episode}, average rewards: {round(np.mean(rewards), 3)}')"
   ]
  },
  {
   "cell_type": "code",
   "execution_count": 14,
   "metadata": {},
   "outputs": [],
   "source": [
    "def cum_mean(x):\n",
    "    \"\"\"Cumulative mean of list\"\"\"\n",
    "    total = 0\n",
    "    values = []\n",
    "    for i, value in enumerate(x):\n",
    "        total += value\n",
    "        values.append(total / (i + 1))\n",
    "\n",
    "    return values"
   ]
  },
  {
   "cell_type": "code",
   "execution_count": 21,
   "metadata": {},
   "outputs": [
    {
     "data": {
      "image/png": "[encoded data removed]",
      "text/plain": [
       "<Figure size 432x288 with 1 Axes>"
      ]
     },
     "metadata": {},
     "output_type": "display_data"
    }
   ],
   "source": [
    "import matplotlib.pyplot as plt\n",
    "plt.style.use('fivethirtyeight')\n",
    "%matplotlib inline\n",
    "\n",
    "plt.plot(cum_mean(rewards), 'o');\n",
    "plt.title('Average Rewards over Episodes');"
   ]
  },
  {
   "cell_type": "code",
   "execution_count": 19,
   "metadata": {},
   "outputs": [
    {
     "name": "stdout",
     "output_type": "stream",
     "text": [
      "Game 0 Current Reward 1.0\n",
      "Game 10 Current Reward 1.0\n",
      "Game 20 Current Reward 1.0\n",
      "Game 30 Current Reward 1.0\n",
      "Game 40 Current Reward 0.0\n",
      "Game 50 Current Reward 0.0\n",
      "Game 60 Current Reward 0.0\n",
      "Game 70 Current Reward 1.0\n",
      "Game 80 Current Reward 1.0\n",
      "Game 90 Current Reward 1.0\n",
      "\n",
      "Percentage of games reaching goal: 74.0\n"
     ]
    }
   ],
   "source": [
    "rewards = []\n",
    "\n",
    "for i in range(100):\n",
    "    game_rewards = 0\n",
    "    state = env.reset()\n",
    "    \n",
    "    for step in range(max_steps):\n",
    "        action = np.argmax(qtable[state, :])\n",
    "        \n",
    "        new_state, reward, done, info = env.step(action)\n",
    "        game_rewards += reward\n",
    "        \n",
    "        state = new_state\n",
    "        \n",
    "        if done:\n",
    "            break\n",
    "            \n",
    "    rewards.append(game_rewards)\n",
    "    \n",
    "    if i % 10 == 0:\n",
    "        print(f'Game {i} Current Reward {game_rewards}')\n",
    "        \n",
    "print(f'\\nPercentage of games reaching goal: {100 * np.mean(np.array(rewards) == 1)}')"
   ]
  },
  {
   "cell_type": "code",
   "execution_count": 20,
   "metadata": {},
   "outputs": [
    {
     "data": {
      "image/png": "[encoded data removed]",
      "text/plain": [
       "<Figure size 432x288 with 1 Axes>"
      ]
     },
     "metadata": {},
     "output_type": "display_data"
    }
   ],
   "source": [
    "plt.plot(cum_mean(rewards), 'r')\n",
    "plt.title('Average Rewards over Episodes');"
   ]
  },
  {
   "cell_type": "code",
   "execution_count": null,
   "metadata": {},
   "outputs": [],
   "source": []
  }
 ],
 "metadata": {
  "kernelspec": {
   "display_name": "Python 3",
   "language": "python",
   "name": "python3"
  },
  "language_info": {
   "codemirror_mode": {
    "name": "ipython",
    "version": 3
   },
   "file_extension": ".py",
   "mimetype": "text/x-python",
   "name": "python",
   "nbconvert_exporter": "python",
   "pygments_lexer": "ipython3",
   "version": "3.6.5"
  }
 },
 "nbformat": 4,
 "nbformat_minor": 2
}
